{
 "cells": [
  {
   "cell_type": "markdown",
   "id": "c9b1d1fe-4cc4-47f1-958a-3afb9d28cbab",
   "metadata": {},
   "source": [
    "## 1. Vorbereitungen"
   ]
  },
  {
   "cell_type": "markdown",
   "id": "1ed9265f-70ca-4874-9c1e-17f3958bcece",
   "metadata": {},
   "source": [
    "Sie versuchen mittels Business Intelligence im Kontext einer internationalen Hotelkette die Hotelstornierungen (abhängige Variable: canceled) vorherzusagen. Dafür stehen Ihnen insgesamt acht unabhängige Variablen zur Verfügung. Vergleichen Sie die Performance eines auf Statistik basierenden Business Intelligence Ansatzes mit der Performance eines Neuronalen Netz als Teilbereich der Künstlichen Intelligenz. Im Rahmen des Vergleichs sind insgesamt 15 Fragen vorgegeben, die gleichermaßen für die Bewertung Ihrer Prüfungsleistung im Modul \"AI - Business Intelligence\" herangezogen werden. Die maximal zu erreichende Punktezahl ist dabei für jede Frage ausgewiesen. Beantworten Sie die Fragen prägnant und präzise auf dem beigefügten Frage- / Antwortbogen und reichen diesen als PDF (max. 1 DIN A4 Seite) im Online Campus ein."
   ]
  },
  {
   "cell_type": "code",
   "execution_count": null,
   "id": "ab78a6c4-fbd7-4beb-88a7-c9b81fea62ef",
   "metadata": {},
   "outputs": [],
   "source": [
    "# Vorbereitungen\n",
    "import numpy as np\n",
    "import pandas as pd\n",
    "import seaborn as sns\n",
    "import tensorflow as tf\n",
    "from tensorflow import keras\n",
    "import statsmodels.api as sm\n",
    "from sklearn.preprocessing import StandardScaler\n",
    "from sklearn.model_selection import train_test_split\n",
    "from sklearn.metrics import (confusion_matrix, accuracy_score) "
   ]
  },
  {
   "cell_type": "markdown",
   "id": "70f82466-c367-4e1e-b594-91c8e796b199",
   "metadata": {},
   "source": [
    "## 2. Datensatz, Features und Standardisierung"
   ]
  },
  {
   "cell_type": "markdown",
   "id": "251f235f-be18-432c-ad22-d503afa0a38e",
   "metadata": {},
   "source": [
    "In diesem Abschnitt wird der zugrundeliegende Datensatz der internationalen Hotelkette eingelesen und für die verschiedenen Business Intelligence Ansätze vorbereitet. Die Varieblen des Datensatzes sind selbsterklärend und basieren - wie die abhängige Variable - teilweise auf dem Nominalskalenniveau. Mittels univariater und bivariater Datenanalyse wird Ihnen eine erste Übersicht über die Variablen und deren Zusammenhänge geboten. "
   ]
  },
  {
   "cell_type": "code",
   "execution_count": null,
   "id": "6c8c2cf8-3f1c-44af-96bb-148be08109f1",
   "metadata": {},
   "outputs": [],
   "source": [
    "# Datensatz einlesen\n",
    "df = pd.read_csv('hotel_project.csv')\n",
    "df = df.dropna()"
   ]
  },
  {
   "cell_type": "code",
   "execution_count": null,
   "id": "d1aacefb-d34d-4e7a-8699-45ad744d38ec",
   "metadata": {},
   "outputs": [],
   "source": [
    "# Univariate Datenanalyse\n",
    "df.describe()"
   ]
  },
  {
   "cell_type": "code",
   "execution_count": null,
   "id": "55866f12-b927-462d-b900-66dcf5d76632",
   "metadata": {},
   "outputs": [],
   "source": [
    "# Bivariate Datenanalyse\n",
    "matrix = df.corr()\n",
    "sns.heatmap(matrix, annot=True, cmap='Purples')"
   ]
  },
  {
   "cell_type": "code",
   "execution_count": null,
   "id": "957a1619-4da8-47a9-accc-4b7242ef95b3",
   "metadata": {},
   "outputs": [],
   "source": [
    "# Features spezifizieren\n",
    "x = df[['sum_nights', 'sum_adults', 'sum_children', 'sum_babies', 'repeated_guest', 'previous_cancellations', 'car_parking', 'sum_special_requests']] \n",
    "scaler = StandardScaler()\n",
    "x = scaler.fit_transform(x)\n",
    "y = df[['canceled']]"
   ]
  },
  {
   "cell_type": "markdown",
   "id": "90a35232-12e2-4b07-9bc5-5f21eff0b089",
   "metadata": {},
   "source": [
    "## 3. Business Intelligence (mit Statistik)"
   ]
  },
  {
   "cell_type": "markdown",
   "id": "72ee34e0-d9ba-46da-b6f7-9810f1ec6725",
   "metadata": {},
   "source": [
    "Der erste Business Intelligence Ansatz basiert auf einem Regressionsmodell aus dem Kontext der multivariaten Datenanalyse. Ziel ist die möglichst korrekte Vorhersage (Klassifikation) der abhängigen Variable (canceled). Neben den Regressionsgewichten ist zusammenfassend die Genauigkeit des Modells ausgewiesen."
   ]
  },
  {
   "cell_type": "code",
   "execution_count": null,
   "id": "0391a2c5-7a79-4966-bcc5-434712df546e",
   "metadata": {},
   "outputs": [],
   "source": [
    "# Multivariate Datenanalyse\n",
    "log_reg = sm.Logit(y, x).fit()\n",
    "log_reg.summary()"
   ]
  },
  {
   "cell_type": "code",
   "execution_count": null,
   "id": "82fbdc41-dfdd-4051-a102-d88a4fa2e1de",
   "metadata": {},
   "outputs": [],
   "source": [
    "# Vorhersagegenauigkeit der multivariaten Datenanalyse\n",
    "y_pred = log_reg.predict(x) \n",
    "prediction = list(map(round, y_pred)) \n",
    "print('Genauigkeit = ', accuracy_score(y, prediction))"
   ]
  },
  {
   "cell_type": "markdown",
   "id": "9c2402cf-d96b-4ad3-b7ed-05c98b62053c",
   "metadata": {},
   "source": [
    "## 4. Business Intelligence (mit Neuronalem Netz)"
   ]
  },
  {
   "cell_type": "markdown",
   "id": "ed3bc8d8-a8c8-432d-8121-2e3c66b0fd1e",
   "metadata": {},
   "source": [
    "Als Alternative zu einem regressionsbasierten Klassifikationsmodell steht Ihnen ein Neuronales Netz zur Verfügung. Hier ist ebenfalls die abhängige Variable (canceled) korrekt vorherzusagen, so dass ebenfals zusammenfassend die Genauigkeit des Modells ausgewiesen wird."
   ]
  },
  {
   "cell_type": "code",
   "execution_count": null,
   "id": "1712470a-08b0-47ba-9d1b-ca042345ef41",
   "metadata": {},
   "outputs": [],
   "source": [
    "# Trainings- und Validierungsdaten spezifizieren\n",
    "X_train, X_test, y_train, y_test = train_test_split(x, y, test_size=0.10, random_state=0)"
   ]
  },
  {
   "cell_type": "code",
   "execution_count": null,
   "id": "5aabdad0-7211-4a96-8cc5-93fb53b24370",
   "metadata": {},
   "outputs": [],
   "source": [
    "# Neuronales Netz\n",
    "model = tf.keras.Sequential()\n",
    "model.add(keras.layers.Dense(8, activation='relu'))\n",
    "model.add(keras.layers.Dense(4,activation='tanh'))\n",
    "model.add(keras.layers.Dense(2,activation='tanh'))\n",
    "model.add(keras.layers.Dense(1,activation='sigmoid'))\n",
    "model.compile(optimizer='adam', loss='binary_crossentropy', metrics=['accuracy'])\n",
    "history_1 = model.fit(X_train, y_train, epochs=10, validation_data=(X_test, y_test))"
   ]
  },
  {
   "cell_type": "code",
   "execution_count": null,
   "id": "064c386d-ba9a-4af6-8f47-424ff23cd692",
   "metadata": {},
   "outputs": [],
   "source": [
    "# Vorhersagegenauigkeit des Neuronalen Netzes\n",
    "y_pred = model.predict(X_test)\n",
    "prediction = np.around(y_pred)\n",
    "print('Genauigkeit = ', accuracy_score(y_test, prediction))"
   ]
  },
  {
   "cell_type": "markdown",
   "id": "8ebe3916-aa11-42c9-8c98-c4788d2abf90",
   "metadata": {},
   "source": [
    "## 5. Vorschau auf den bereitgestellten Frage- / Antwortbogen"
   ]
  },
  {
   "cell_type": "markdown",
   "id": "0c542544-9287-4ca7-b7ce-2b2607dfd201",
   "metadata": {},
   "source": [
    "Die nachfolgenden Fragen sind auf dem bereitgestellten Frage- / Antwortbogen zu beantworten und als PDF im Online Campus einzustellen. Dies sind die Fragen, die Ihnen bei einem entsprechendem Vortrag zu dem Datensatz gestellt werden können:"
   ]
  },
  {
   "cell_type": "markdown",
   "id": "3a4511c0-6ecd-4a75-8ae1-e351d92315af",
   "metadata": {},
   "source": [
    "### Univariate Datenanalyse:\n",
    "* (1P) Welche Variable weist die höchste Standardabweichung auf?\n",
    "* (1P) Für wie viele Erwachsene wurden maximal Übernachtungen gebucht?\n",
    "### Bivariate Datenanalyse:\n",
    "* (2P) Welche unabhängige Variable hat den stärksten Einfluss auf die abhängige Variable?\n",
    "* (2P) Zwischen welchen unabhängigen Variablen liegt der schwächste Korrelationskoeffizient vor?\n",
    "### Features spezifizieren:\n",
    "* (2P) Welche Funktion hat der StandardScaler() in der Datenvorverarbeitung?\n",
    "### Multivariate Datenanalyse:\n",
    "* (1P) Welches Regressionsmodell wird zur Vorhersage der abhängigen Variable verwendet?\n",
    "* (2P) Welcher Grad an Varianzaufklärung wird mit dem Regressionsmodell erreicht?\n",
    "* (2P) Welche unabhängige Variable hat den stärksten Einfluss auf die abhängige Variable?\n",
    "* (2P) Welche unabhängige Variable reduziert das Risiko einer Hotelstornierung am stärksten?\n",
    "* (1P) Welche Genauigkeit erzielt das Regressionsmodell?\n",
    "### Neuronales Netz:\n",
    "* (2P) Wie viele Neuronen weist das Neuronale Netz auf?\n",
    "* (1P) Wie viele Epochen werden für das Training des Neuronalen Netzes verwendet?\n",
    "* (2P) Verbessert sich die Performance des Neuronalen Netzes bei doppelter Epochenanzahl (N=20)?\n",
    "* (1P) Welche Genauigkeit erzielt das Neuronale Netz?\n",
    "### Modellentscheidung:\n",
    "* (2P) Warum ist im vorliegenden Beispiel das statistische Modell vor dem Neuronalen Netz zu bevorzugen?\n",
    "* (1P) Was unterscheidet das Regressionsmodell vom Neuronale Netz hinsichtlich der Datenverwendung?"
   ]
  },
  {
   "cell_type": "code",
   "execution_count": null,
   "id": "f3e85d80-ef20-48fd-b904-92e04c0bac67",
   "metadata": {},
   "outputs": [],
   "source": []
  }
 ],
 "metadata": {
  "kernelspec": {
   "display_name": "Python 3 (ipykernel)",
   "language": "python",
   "name": "python3"
  },
  "language_info": {
   "codemirror_mode": {
    "name": "ipython",
    "version": 3
   },
   "file_extension": ".py",
   "mimetype": "text/x-python",
   "name": "python",
   "nbconvert_exporter": "python",
   "pygments_lexer": "ipython3",
   "version": "3.12.3"
  }
 },
 "nbformat": 4,
 "nbformat_minor": 5
}
